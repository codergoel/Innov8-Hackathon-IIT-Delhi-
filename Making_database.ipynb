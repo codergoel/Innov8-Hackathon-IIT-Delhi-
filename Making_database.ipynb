{
 "cells": [
  {
   "cell_type": "markdown",
   "id": "08e37571-1ba3-4cd8-9527-6b6377f7ce38",
   "metadata": {},
   "source": [
    "# Predicting Soldier Defection Risk using a Rule-Based System\n",
    "\n",
    "This notebook demonstrates how to generate a synthetic dataset of soldiers and predict their likelihood of defection based on key individual and external factors. We assign weights to each feature based on its positive or negative relationship with the defection risk and use these weights to calculate a defection risk score.\n",
    "\n",
    "## 1. Import Required Libraries\n",
    "\n",
    "We will start by importing the necessary libraries: `numpy` for numerical operations and `pandas` for data manipulation.\n"
   ]
  },
  {
   "cell_type": "code",
   "execution_count": 13,
   "id": "9200be4f-9b13-4e7d-9415-881896acf257",
   "metadata": {},
   "outputs": [],
   "source": [
    "import numpy as np\n",
    "import pandas as pd\n",
    "\n",
    "# Set random seed for reproducibility\n",
    "np.random.seed(0)\n"
   ]
  },
  {
   "cell_type": "markdown",
   "id": "5ce1c52f-9e50-4ea8-8649-d8aacd156881",
   "metadata": {},
   "source": [
    "## 2. Initialize the Dataset\n",
    "\n",
    "We will create an empty DataFrame and set the number of soldiers (`n`) to 1000. This will serve as the basis for our synthetic dataset.\n"
   ]
  },
  {
   "cell_type": "code",
   "execution_count": 14,
   "id": "890ffbfe-d158-4b95-9b5d-45dd4f2d59da",
   "metadata": {},
   "outputs": [],
   "source": [
    "# Number of soldiers\n",
    "n = 10000\n",
    "\n",
    "# Initialize empty DataFrame\n",
    "df = pd.DataFrame()"
   ]
  },
  {
   "cell_type": "markdown",
   "id": "1b9d71e2-d5ca-441e-bdee-d4b23f416576",
   "metadata": {},
   "source": [
    "## 3. Generate Security Clearance Level\n",
    "\n",
    "We generate a `security_clearance_level` column with values 'low', 'medium', and 'high'. These represent the security clearance status of each soldier, with the majority having 'low' clearance.\n"
   ]
  },
  {
   "cell_type": "code",
   "execution_count": 15,
   "id": "56f950e1-61ab-4853-bf54-8c163dee226f",
   "metadata": {},
   "outputs": [],
   "source": [
    "# 5. Security Clearance Level ('low', 'medium', 'high')\n",
    "df['security_clearance_level'] = np.random.choice(['low', 'medium', 'high'], size=n, p=[0.6, 0.3, 0.1])\n",
    "\n",
    "# Map to numerical values\n",
    "security_clearance_mapping = {'low': 1, 'medium': 2, 'high': 3}\n",
    "df['security_clearance_level_num'] = df['security_clearance_level'].map(security_clearance_mapping)"
   ]
  },
  {
   "cell_type": "markdown",
   "id": "83bd91d8-d7fe-4aa1-8e7b-a77b9bf8762b",
   "metadata": {},
   "source": [
    "## 4. Generate Morale Score\n",
    "\n",
    "We create a `morale_score` column with random values between 0 and 100, representing the morale level of each soldier. Since morale surveys are mandatory, there are no missing values.\n"
   ]
  },
  {
   "cell_type": "code",
   "execution_count": 16,
   "id": "24d547d4-a2a2-4285-8131-5c57ec864528",
   "metadata": {},
   "outputs": [],
   "source": [
    "# 2. Morale Score (0 to 100)\n",
    "df['morale_score'] = np.random.uniform(0, 100, size=n)"
   ]
  },
  {
   "cell_type": "markdown",
   "id": "15a40c3e-7c7b-426c-8b59-9ef9965f4317",
   "metadata": {},
   "source": [
    "## 5. Generate Family Military History\n",
    "\n",
    "We generate a binary column `family_military_history_bin` using a binomial distribution with a 10% chance of being `1`, indicating that only a few soldiers have a family member who served in the military.\n"
   ]
  },
  {
   "cell_type": "code",
   "execution_count": 17,
   "id": "8955deb3-b44a-4427-a438-2f34a353b6dc",
   "metadata": {},
   "outputs": [],
   "source": [
    "# 4. Family Military History (0 or 1)\n",
    "df['family_military_history_bin'] = np.random.binomial(1, 0.1, size=n)"
   ]
  },
  {
   "cell_type": "markdown",
   "id": "68283868-063f-4b99-b9d1-d831a1ca6bdc",
   "metadata": {},
   "source": [
    "## 6. Generate Punishment Policy\n",
    "\n",
    "We create a column `punishment_policy` representing the perceived level of strictness in anti-defection policies. The majority of soldiers perceive the policy as 'strict'.\n"
   ]
  },
  {
   "cell_type": "code",
   "execution_count": 18,
   "id": "a0a896d6-5b8b-4c13-830c-4e1b1375c7c5",
   "metadata": {},
   "outputs": [],
   "source": [
    "# 6. Punishment Policy ('strict', 'lenient')\n",
    "df['punishment_policy'] = np.random.choice(['strict', 'lenient'], size=n, p=[0.8, 0.2])\n",
    "\n",
    "# Encode punishment_policy\n",
    "df['punishment_policy_num'] = df['punishment_policy'].map({'strict': 0, 'lenient': 1})"
   ]
  },
  {
   "cell_type": "markdown",
   "id": "e1d78210-0329-440a-98ef-5b7d1c01d486",
   "metadata": {},
   "source": [
    "## 7. Generate Regime Type\n",
    "\n",
    "We generate a `regime_type` column set to 'personalist', indicating a regime where power is concentrated in a single leader. This type of regime typically faces higher defection rates.\n"
   ]
  },
  {
   "cell_type": "code",
   "execution_count": 19,
   "id": "e8bbcb2b-96b4-4314-af45-fc1cb127b010",
   "metadata": {},
   "outputs": [],
   "source": [
    "# 11. Regime Type ('personalist', 'party-based')\n",
    "df['regime_type'] = 'personalist'  # Can change in future data\n",
    "# Encode regime_type\n",
    "df['regime_type_num'] = df['regime_type'].map({'personalist': 1, 'party-based': 0})"
   ]
  },
  {
   "cell_type": "markdown",
   "id": "76f73e0d-ec70-47d0-bfe6-12e8ee8afe42",
   "metadata": {},
   "source": [
    "## 8. Generate Trust in Leadership Score\n",
    "\n",
    "We create a `trust_in_leadership_score` column with random values between 0 and 100, representing the level of trust soldiers have in their leadership.\n"
   ]
  },
  {
   "cell_type": "code",
   "execution_count": 20,
   "id": "33d87f7b-3d4b-4623-a5a4-05087ec343cd",
   "metadata": {},
   "outputs": [],
   "source": [
    "# 12. Trust in Leadership Score (0 to 100)\n",
    "df['trust_in_leadership_score'] = np.random.uniform(0, 100, size=n)"
   ]
  },
  {
   "cell_type": "markdown",
   "id": "1ee8e77b-8d8d-415f-8216-5c4d045e6b64",
   "metadata": {},
   "source": [
    "## 9. Generate Military Structure\n",
    "\n",
    "The `military_structure` column is set to 'patrimonial', indicating a military deeply tied to the ruling leader through informal connections, making them more likely to remain loyal.\n"
   ]
  },
  {
   "cell_type": "code",
   "execution_count": 21,
   "id": "805f5faf-a076-4520-9540-c16db44904e1",
   "metadata": {},
   "outputs": [],
   "source": [
    "# 13. Military Structure ('patrimonial', 'institutionalized')\n",
    "df['military_structure'] = 'patrimonial'  # Can change in future data\n",
    "# Encode military_structure\n",
    "df['military_structure_num'] = df['military_structure'].map({'patrimonial': 0, 'institutionalized': 1})"
   ]
  },
  {
   "cell_type": "markdown",
   "id": "4d7a0d59-b708-4fa9-80d8-bb54c586783b",
   "metadata": {},
   "source": [
    "## 10. Set Defector Capture Rate\n",
    "\n",
    "The `defector_capture_rate` is set to a constant value of 0.8, representing the perceived rate at which defectors are captured. This rate can change in future data generations.\n"
   ]
  },
  {
   "cell_type": "code",
   "execution_count": 22,
   "id": "8a7dddb5-dfab-4b48-bc2e-13985d24973e",
   "metadata": {},
   "outputs": [],
   "source": [
    "# Defector Capture Rate (0 to 1)\n",
    "df['defector_capture_rate'] = 0.8  # Can change in future data"
   ]
  },
  {
   "cell_type": "markdown",
   "id": "8cbc8a21-b0db-4d78-8133-dafc8901e26d",
   "metadata": {},
   "source": [
    "## 11. Generate Promotion Fairness Score\n",
    "\n",
    "We create a `promotion_fairness_score` column with most values between 0 and 40, reflecting a low chance of fair promotions in a patrimonial military structure.\n"
   ]
  },
  {
   "cell_type": "code",
   "execution_count": 23,
   "id": "3ad066c7-9eee-4890-afb9-006f313181a2",
   "metadata": {},
   "outputs": [],
   "source": [
    "# 9. Promotion Fairness Score (0 to 100)\n",
    "df['promotion_fairness_score'] = np.where(\n",
    "    np.random.rand(n) < 0.8, \n",
    "    np.random.uniform(0, 40, size=n),  # 80% between 0 and 40\n",
    "    np.random.uniform(40, 100, size=n)  # 20% between 40 and 100\n",
    ")"
   ]
  },
  {
   "cell_type": "markdown",
   "id": "244b3a19-6870-41f6-a906-0314ca5368b9",
   "metadata": {},
   "source": [
    "## 12. Generate Communication Quality Score\n",
    "\n",
    "The `communication_quality_score` column represents the quality of communication within the military, with random values between 0 and 100.\n"
   ]
  },
  {
   "cell_type": "code",
   "execution_count": 24,
   "id": "e7599de7-0330-476f-bacb-2d59a4b94345",
   "metadata": {},
   "outputs": [],
   "source": [
    "# 10. Communication Quality Score (0 to 100)\n",
    "df['communication_quality_score'] = np.random.uniform(0, 100, size=n)"
   ]
  },
  {
   "cell_type": "markdown",
   "id": "733e0529-2c2e-488e-ac81-c21480a6b3aa",
   "metadata": {},
   "source": [
    "## 13. Generate Opportunity Cost\n",
    "\n",
    "We generate the `opportunity_cost` column with random values between 0 and 5000, representing the perceived financial or personal cost of remaining in service. This value is adjusted based on security clearance level.\n"
   ]
  },
  {
   "cell_type": "code",
   "execution_count": 25,
   "id": "95451b99-496a-4658-ab66-4075a881cd5f",
   "metadata": {},
   "outputs": [],
   "source": [
    "# Opportunity Cost\n",
    "df['opportunity_cost'] = np.random.uniform(0, 5000, size=n)\n",
    "# Adjust based on security clearance\n",
    "df['opportunity_cost'] = df.apply(\n",
    "    lambda row: row['opportunity_cost'] if row['security_clearance_level'] == 'low' else \n",
    "                row['opportunity_cost'] * 0.5 if row['security_clearance_level'] == 'medium' else \n",
    "                row['opportunity_cost'] * 0.2,\n",
    "    axis=1\n",
    ")\n",
    "# Normalize opportunity cost\n",
    "df['opportunity_cost_norm'] = (df['opportunity_cost'] - df['opportunity_cost'].min()) / (df['opportunity_cost'].max() - df['opportunity_cost'].min())"
   ]
  },
  {
   "cell_type": "markdown",
   "id": "1fc2b063-6bf5-492a-ba19-7390b4dd3dd6",
   "metadata": {},
   "source": [
    "## 14. Generate Has Enemy Connections\n",
    "\n",
    "The `has_enemy_connections` column is generated with a 10% probability of being 'Yes'. Most values are set to NaN, reflecting missing data.\n"
   ]
  },
  {
   "cell_type": "code",
   "execution_count": 26,
   "id": "ec6b0370-9de9-4181-9c66-ee920c27a2e2",
   "metadata": {},
   "outputs": [],
   "source": [
    "# Variable with missing values: Has Enemy Connections\n",
    "df['has_enemy_connections'] = np.where(\n",
    "    np.random.binomial(1, 0.1, size=n) == 1, \n",
    "    'Yes', \n",
    "    'No'\n",
    ")\n",
    "# Randomly set 95% to NaN\n",
    "missing_mask = np.random.rand(n) < 0.95\n",
    "df.loc[missing_mask, 'has_enemy_connections'] = np.nan\n",
    "# Encode has_enemy_connections\n",
    "df['has_enemy_connections_bin'] = df['has_enemy_connections'].map({'Yes': 1, 'No': 0})\n",
    "df['has_enemy_connections_bin'] = df['has_enemy_connections_bin'].fillna(0)"
   ]
  },
  {
   "cell_type": "markdown",
   "id": "391f36b2-5416-4351-9274-a626316af3b0",
   "metadata": {},
   "source": [
    "## 15. Assign Feature Weights and Normalize Negative Relationship Features\n",
    "\n",
    "We assign weights to each feature based on its positive or negative relationship with the likelihood of defection. These weights reflect the importance of each feature. We also normalize the features with a negative relationship with defection to ensure their values fall between 0 and 1.\n",
    "\n"
   ]
  },
  {
   "cell_type": "code",
   "execution_count": 27,
   "id": "91290e85-80a2-4f21-b807-f0e19ab217d5",
   "metadata": {},
   "outputs": [],
   "source": [
    "# Normalize features where necessary\n",
    "df['morale_score_norm'] = df['morale_score'] / 100\n",
    "df['trust_in_leadership_score_norm'] = df['trust_in_leadership_score'] / 100\n",
    "df['promotion_fairness_score_norm'] = df['promotion_fairness_score'] / 100\n",
    "df['communication_quality_score_norm'] = df['communication_quality_score'] / 100\n",
    "df['defector_capture_rate_norm'] = df['defector_capture_rate']  # Already between 0 and 1\n",
    "\n",
    "# Time of Data Measurement\n",
    "df['time_of_measurement'] = np.random.choice(['start of the war', 'middle of the war', 'end of the war'], size=n, p=[0.3, 0.4, 0.3])\n",
    "\n",
    "# Assign Weights\n",
    "weights = {\n",
    "    'opportunity_cost_norm': 0.4,\n",
    "    'family_military_history_bin': -0.2,\n",
    "    'security_clearance_level_num': 0.3,\n",
    "    'has_enemy_connections_bin': 0.5,\n",
    "    'morale_score_norm': -0.3,\n",
    "    'trust_in_leadership_score_norm': -0.3,\n",
    "    'promotion_fairness_score_norm': -0.2,\n",
    "    'communication_quality_score_norm': -0.1,\n",
    "    'defector_capture_rate_norm': -0.4,\n",
    "    'punishment_policy_num': 0.2,\n",
    "    'regime_type_num': 0.3,\n",
    "    'military_structure_num': 0.2,\n",
    "}"
   ]
  },
  {
   "cell_type": "markdown",
   "id": "1600af06-a094-43b5-9cbe-bd0de7210370",
   "metadata": {},
   "source": [
    "## 17. Calculate Defection Risk Score\n",
    "\n",
    "Using the assigned weights, we calculate a defection risk score for each soldier by summing the weighted values of each feature.\n"
   ]
  },
  {
   "cell_type": "code",
   "execution_count": 28,
   "id": "c436a7d1-73a7-472f-a8d2-89fdeb8af91e",
   "metadata": {},
   "outputs": [],
   "source": [
    "# Calculate Defection Risk Score\n",
    "df['defection_risk_score'] = (\n",
    "    weights['opportunity_cost_norm'] * df['opportunity_cost_norm'] +\n",
    "    weights['family_military_history_bin'] * df['family_military_history_bin'] +\n",
    "    weights['security_clearance_level_num'] * (df['security_clearance_level_num'] / df['security_clearance_level_num'].max()) +\n",
    "    weights['has_enemy_connections_bin'] * df['has_enemy_connections_bin'] +\n",
    "    weights['morale_score_norm'] * df['morale_score_norm'] +\n",
    "    weights['trust_in_leadership_score_norm'] * df['trust_in_leadership_score_norm'] +\n",
    "    weights['promotion_fairness_score_norm'] * df['promotion_fairness_score_norm'] +\n",
    "    weights['communication_quality_score_norm'] * df['communication_quality_score_norm'] +\n",
    "    weights['defector_capture_rate_norm'] * df['defector_capture_rate_norm'] +\n",
    "    weights['punishment_policy_num'] * df['punishment_policy_num'] +\n",
    "    weights['regime_type_num'] * df['regime_type_num'] +\n",
    "    weights['military_structure_num'] * df['military_structure_num']\n",
    ")"
   ]
  },
  {
   "cell_type": "markdown",
   "id": "5d254687-83be-49ff-ad0f-e96ccf74a9ef",
   "metadata": {},
   "source": [
    "## 18. Determine Defection Threshold\n",
    "\n",
    "We determine a threshold based on the median defection risk score. Soldiers with a score above this threshold are classified as likely to defect.\n"
   ]
  },
  {
   "cell_type": "code",
   "execution_count": 29,
   "id": "c1b15572-544e-4c78-a53a-29968d674eae",
   "metadata": {},
   "outputs": [],
   "source": [
    "# Determine Threshold for Defection\n",
    "threshold = df['defection_risk_score'].median()\n",
    "\n",
    "# Create 'will_defect' Column\n",
    "df['will_defect'] = np.where(df['defection_risk_score'] > threshold, 'yes', 'no')"
   ]
  },
  {
   "cell_type": "markdown",
   "id": "fa47eba7-d84e-4b7e-a591-b66c62b75a46",
   "metadata": {},
   "source": [
    "## 20. Save the Dataset\n",
    "\n",
    "Finally, we save the generated dataset to a CSV file for further analysis or modeling.\n"
   ]
  },
  {
   "cell_type": "code",
   "execution_count": 30,
   "id": "afbf901f-2af6-49a7-8fc2-b1a872506c49",
   "metadata": {},
   "outputs": [
    {
     "data": {
      "text/html": [
       "<div>\n",
       "<style scoped>\n",
       "    .dataframe tbody tr th:only-of-type {\n",
       "        vertical-align: middle;\n",
       "    }\n",
       "\n",
       "    .dataframe tbody tr th {\n",
       "        vertical-align: top;\n",
       "    }\n",
       "\n",
       "    .dataframe thead th {\n",
       "        text-align: right;\n",
       "    }\n",
       "</style>\n",
       "<table border=\"1\" class=\"dataframe\">\n",
       "  <thead>\n",
       "    <tr style=\"text-align: right;\">\n",
       "      <th></th>\n",
       "      <th>security_clearance_level</th>\n",
       "      <th>security_clearance_level_num</th>\n",
       "      <th>morale_score</th>\n",
       "      <th>family_military_history_bin</th>\n",
       "      <th>punishment_policy</th>\n",
       "      <th>punishment_policy_num</th>\n",
       "      <th>regime_type</th>\n",
       "      <th>regime_type_num</th>\n",
       "      <th>trust_in_leadership_score</th>\n",
       "      <th>military_structure</th>\n",
       "      <th>...</th>\n",
       "      <th>has_enemy_connections</th>\n",
       "      <th>has_enemy_connections_bin</th>\n",
       "      <th>morale_score_norm</th>\n",
       "      <th>trust_in_leadership_score_norm</th>\n",
       "      <th>promotion_fairness_score_norm</th>\n",
       "      <th>communication_quality_score_norm</th>\n",
       "      <th>defector_capture_rate_norm</th>\n",
       "      <th>time_of_measurement</th>\n",
       "      <th>defection_risk_score</th>\n",
       "      <th>will_defect</th>\n",
       "    </tr>\n",
       "  </thead>\n",
       "  <tbody>\n",
       "    <tr>\n",
       "      <th>0</th>\n",
       "      <td>low</td>\n",
       "      <td>1</td>\n",
       "      <td>74.826798</td>\n",
       "      <td>0</td>\n",
       "      <td>strict</td>\n",
       "      <td>0</td>\n",
       "      <td>personalist</td>\n",
       "      <td>1</td>\n",
       "      <td>36.925632</td>\n",
       "      <td>patrimonial</td>\n",
       "      <td>...</td>\n",
       "      <td>NaN</td>\n",
       "      <td>0.0</td>\n",
       "      <td>0.748268</td>\n",
       "      <td>0.369256</td>\n",
       "      <td>0.371182</td>\n",
       "      <td>0.011097</td>\n",
       "      <td>0.8</td>\n",
       "      <td>middle of the war</td>\n",
       "      <td>-0.254191</td>\n",
       "      <td>no</td>\n",
       "    </tr>\n",
       "    <tr>\n",
       "      <th>1</th>\n",
       "      <td>medium</td>\n",
       "      <td>2</td>\n",
       "      <td>18.020271</td>\n",
       "      <td>0</td>\n",
       "      <td>strict</td>\n",
       "      <td>0</td>\n",
       "      <td>personalist</td>\n",
       "      <td>1</td>\n",
       "      <td>21.132600</td>\n",
       "      <td>patrimonial</td>\n",
       "      <td>...</td>\n",
       "      <td>NaN</td>\n",
       "      <td>0.0</td>\n",
       "      <td>0.180203</td>\n",
       "      <td>0.211326</td>\n",
       "      <td>0.361175</td>\n",
       "      <td>0.001770</td>\n",
       "      <td>0.8</td>\n",
       "      <td>start of the war</td>\n",
       "      <td>0.001780</td>\n",
       "      <td>yes</td>\n",
       "    </tr>\n",
       "    <tr>\n",
       "      <th>2</th>\n",
       "      <td>medium</td>\n",
       "      <td>2</td>\n",
       "      <td>38.902314</td>\n",
       "      <td>1</td>\n",
       "      <td>strict</td>\n",
       "      <td>0</td>\n",
       "      <td>personalist</td>\n",
       "      <td>1</td>\n",
       "      <td>47.690477</td>\n",
       "      <td>patrimonial</td>\n",
       "      <td>...</td>\n",
       "      <td>NaN</td>\n",
       "      <td>0.0</td>\n",
       "      <td>0.389023</td>\n",
       "      <td>0.476905</td>\n",
       "      <td>0.833250</td>\n",
       "      <td>0.155055</td>\n",
       "      <td>0.8</td>\n",
       "      <td>end of the war</td>\n",
       "      <td>-0.374606</td>\n",
       "      <td>no</td>\n",
       "    </tr>\n",
       "    <tr>\n",
       "      <th>3</th>\n",
       "      <td>low</td>\n",
       "      <td>1</td>\n",
       "      <td>3.760018</td>\n",
       "      <td>0</td>\n",
       "      <td>lenient</td>\n",
       "      <td>1</td>\n",
       "      <td>personalist</td>\n",
       "      <td>1</td>\n",
       "      <td>8.223436</td>\n",
       "      <td>patrimonial</td>\n",
       "      <td>...</td>\n",
       "      <td>NaN</td>\n",
       "      <td>0.0</td>\n",
       "      <td>0.037600</td>\n",
       "      <td>0.082234</td>\n",
       "      <td>0.204322</td>\n",
       "      <td>0.316761</td>\n",
       "      <td>0.8</td>\n",
       "      <td>middle of the war</td>\n",
       "      <td>0.459662</td>\n",
       "      <td>yes</td>\n",
       "    </tr>\n",
       "    <tr>\n",
       "      <th>4</th>\n",
       "      <td>low</td>\n",
       "      <td>1</td>\n",
       "      <td>1.178774</td>\n",
       "      <td>1</td>\n",
       "      <td>strict</td>\n",
       "      <td>0</td>\n",
       "      <td>personalist</td>\n",
       "      <td>1</td>\n",
       "      <td>23.765937</td>\n",
       "      <td>patrimonial</td>\n",
       "      <td>...</td>\n",
       "      <td>NaN</td>\n",
       "      <td>0.0</td>\n",
       "      <td>0.011788</td>\n",
       "      <td>0.237659</td>\n",
       "      <td>0.233280</td>\n",
       "      <td>0.651845</td>\n",
       "      <td>0.8</td>\n",
       "      <td>middle of the war</td>\n",
       "      <td>0.023138</td>\n",
       "      <td>yes</td>\n",
       "    </tr>\n",
       "  </tbody>\n",
       "</table>\n",
       "<p>5 rows × 26 columns</p>\n",
       "</div>"
      ],
      "text/plain": [
       "  security_clearance_level  security_clearance_level_num  morale_score  \\\n",
       "0                      low                             1     74.826798   \n",
       "1                   medium                             2     18.020271   \n",
       "2                   medium                             2     38.902314   \n",
       "3                      low                             1      3.760018   \n",
       "4                      low                             1      1.178774   \n",
       "\n",
       "   family_military_history_bin punishment_policy  punishment_policy_num  \\\n",
       "0                            0            strict                      0   \n",
       "1                            0            strict                      0   \n",
       "2                            1            strict                      0   \n",
       "3                            0           lenient                      1   \n",
       "4                            1            strict                      0   \n",
       "\n",
       "   regime_type  regime_type_num  trust_in_leadership_score military_structure  \\\n",
       "0  personalist                1                  36.925632        patrimonial   \n",
       "1  personalist                1                  21.132600        patrimonial   \n",
       "2  personalist                1                  47.690477        patrimonial   \n",
       "3  personalist                1                   8.223436        patrimonial   \n",
       "4  personalist                1                  23.765937        patrimonial   \n",
       "\n",
       "   ...  has_enemy_connections  has_enemy_connections_bin  morale_score_norm  \\\n",
       "0  ...                    NaN                        0.0           0.748268   \n",
       "1  ...                    NaN                        0.0           0.180203   \n",
       "2  ...                    NaN                        0.0           0.389023   \n",
       "3  ...                    NaN                        0.0           0.037600   \n",
       "4  ...                    NaN                        0.0           0.011788   \n",
       "\n",
       "   trust_in_leadership_score_norm  promotion_fairness_score_norm  \\\n",
       "0                        0.369256                       0.371182   \n",
       "1                        0.211326                       0.361175   \n",
       "2                        0.476905                       0.833250   \n",
       "3                        0.082234                       0.204322   \n",
       "4                        0.237659                       0.233280   \n",
       "\n",
       "   communication_quality_score_norm defector_capture_rate_norm  \\\n",
       "0                          0.011097                        0.8   \n",
       "1                          0.001770                        0.8   \n",
       "2                          0.155055                        0.8   \n",
       "3                          0.316761                        0.8   \n",
       "4                          0.651845                        0.8   \n",
       "\n",
       "   time_of_measurement  defection_risk_score  will_defect  \n",
       "0    middle of the war             -0.254191           no  \n",
       "1     start of the war              0.001780          yes  \n",
       "2       end of the war             -0.374606           no  \n",
       "3    middle of the war              0.459662          yes  \n",
       "4    middle of the war              0.023138          yes  \n",
       "\n",
       "[5 rows x 26 columns]"
      ]
     },
     "execution_count": 30,
     "metadata": {},
     "output_type": "execute_result"
    }
   ],
   "source": [
    "# Save dataset to CSV file\n",
    "df.to_csv('soldier_defection_dataset_final.csv', index=False)\n",
    "\n",
    "df.head()"
   ]
  },
  {
   "cell_type": "markdown",
   "id": "009596ad-3f8e-4b11-9233-9ee35fcf31de",
   "metadata": {},
   "source": [
    "## Removal of normalized columns to get the finalized dataset\n",
    "\n",
    "So removing all the columns containing the normalized values, so that we get the final dataset on which we can train and test a model devloped for predicting the defection of the soldier."
   ]
  },
  {
   "cell_type": "code",
   "execution_count": 31,
   "id": "625e1079-70c8-41ae-89e6-0797d92a3858",
   "metadata": {},
   "outputs": [
    {
     "data": {
      "text/html": [
       "<div>\n",
       "<style scoped>\n",
       "    .dataframe tbody tr th:only-of-type {\n",
       "        vertical-align: middle;\n",
       "    }\n",
       "\n",
       "    .dataframe tbody tr th {\n",
       "        vertical-align: top;\n",
       "    }\n",
       "\n",
       "    .dataframe thead th {\n",
       "        text-align: right;\n",
       "    }\n",
       "</style>\n",
       "<table border=\"1\" class=\"dataframe\">\n",
       "  <thead>\n",
       "    <tr style=\"text-align: right;\">\n",
       "      <th></th>\n",
       "      <th>security_clearance_level</th>\n",
       "      <th>morale_score</th>\n",
       "      <th>family_military_history_bin</th>\n",
       "      <th>punishment_policy</th>\n",
       "      <th>regime_type</th>\n",
       "      <th>trust_in_leadership_score</th>\n",
       "      <th>military_structure</th>\n",
       "      <th>defector_capture_rate</th>\n",
       "      <th>promotion_fairness_score</th>\n",
       "      <th>communication_quality_score</th>\n",
       "      <th>opportunity_cost</th>\n",
       "      <th>has_enemy_connections</th>\n",
       "      <th>will_defect</th>\n",
       "    </tr>\n",
       "  </thead>\n",
       "  <tbody>\n",
       "    <tr>\n",
       "      <th>0</th>\n",
       "      <td>low</td>\n",
       "      <td>74.826798</td>\n",
       "      <td>0</td>\n",
       "      <td>strict</td>\n",
       "      <td>personalist</td>\n",
       "      <td>36.925632</td>\n",
       "      <td>patrimonial</td>\n",
       "      <td>0.8</td>\n",
       "      <td>37.118191</td>\n",
       "      <td>1.109675</td>\n",
       "      <td>955.619535</td>\n",
       "      <td>NaN</td>\n",
       "      <td>no</td>\n",
       "    </tr>\n",
       "    <tr>\n",
       "      <th>1</th>\n",
       "      <td>medium</td>\n",
       "      <td>18.020271</td>\n",
       "      <td>0</td>\n",
       "      <td>strict</td>\n",
       "      <td>personalist</td>\n",
       "      <td>21.132600</td>\n",
       "      <td>patrimonial</td>\n",
       "      <td>0.8</td>\n",
       "      <td>36.117479</td>\n",
       "      <td>0.176979</td>\n",
       "      <td>146.369162</td>\n",
       "      <td>NaN</td>\n",
       "      <td>yes</td>\n",
       "    </tr>\n",
       "    <tr>\n",
       "      <th>2</th>\n",
       "      <td>medium</td>\n",
       "      <td>38.902314</td>\n",
       "      <td>1</td>\n",
       "      <td>strict</td>\n",
       "      <td>personalist</td>\n",
       "      <td>47.690477</td>\n",
       "      <td>patrimonial</td>\n",
       "      <td>0.8</td>\n",
       "      <td>83.325013</td>\n",
       "      <td>15.505512</td>\n",
       "      <td>1092.026293</td>\n",
       "      <td>NaN</td>\n",
       "      <td>no</td>\n",
       "    </tr>\n",
       "    <tr>\n",
       "      <th>3</th>\n",
       "      <td>low</td>\n",
       "      <td>3.760018</td>\n",
       "      <td>0</td>\n",
       "      <td>lenient</td>\n",
       "      <td>personalist</td>\n",
       "      <td>8.223436</td>\n",
       "      <td>patrimonial</td>\n",
       "      <td>0.8</td>\n",
       "      <td>20.432228</td>\n",
       "      <td>31.676115</td>\n",
       "      <td>3601.483238</td>\n",
       "      <td>NaN</td>\n",
       "      <td>yes</td>\n",
       "    </tr>\n",
       "    <tr>\n",
       "      <th>4</th>\n",
       "      <td>low</td>\n",
       "      <td>1.178774</td>\n",
       "      <td>1</td>\n",
       "      <td>strict</td>\n",
       "      <td>personalist</td>\n",
       "      <td>23.765937</td>\n",
       "      <td>patrimonial</td>\n",
       "      <td>0.8</td>\n",
       "      <td>23.328005</td>\n",
       "      <td>65.184489</td>\n",
       "      <td>4122.058623</td>\n",
       "      <td>NaN</td>\n",
       "      <td>yes</td>\n",
       "    </tr>\n",
       "  </tbody>\n",
       "</table>\n",
       "</div>"
      ],
      "text/plain": [
       "  security_clearance_level  morale_score  family_military_history_bin  \\\n",
       "0                      low     74.826798                            0   \n",
       "1                   medium     18.020271                            0   \n",
       "2                   medium     38.902314                            1   \n",
       "3                      low      3.760018                            0   \n",
       "4                      low      1.178774                            1   \n",
       "\n",
       "  punishment_policy  regime_type  trust_in_leadership_score  \\\n",
       "0            strict  personalist                  36.925632   \n",
       "1            strict  personalist                  21.132600   \n",
       "2            strict  personalist                  47.690477   \n",
       "3           lenient  personalist                   8.223436   \n",
       "4            strict  personalist                  23.765937   \n",
       "\n",
       "  military_structure  defector_capture_rate  promotion_fairness_score  \\\n",
       "0        patrimonial                    0.8                 37.118191   \n",
       "1        patrimonial                    0.8                 36.117479   \n",
       "2        patrimonial                    0.8                 83.325013   \n",
       "3        patrimonial                    0.8                 20.432228   \n",
       "4        patrimonial                    0.8                 23.328005   \n",
       "\n",
       "   communication_quality_score  opportunity_cost has_enemy_connections  \\\n",
       "0                     1.109675        955.619535                   NaN   \n",
       "1                     0.176979        146.369162                   NaN   \n",
       "2                    15.505512       1092.026293                   NaN   \n",
       "3                    31.676115       3601.483238                   NaN   \n",
       "4                    65.184489       4122.058623                   NaN   \n",
       "\n",
       "  will_defect  \n",
       "0          no  \n",
       "1         yes  \n",
       "2          no  \n",
       "3         yes  \n",
       "4         yes  "
      ]
     },
     "execution_count": 31,
     "metadata": {},
     "output_type": "execute_result"
    }
   ],
   "source": [
    "# Define the columns you want to keep\n",
    "columns_to_keep = [\n",
    "    'security_clearance_level', 'morale_score', 'family_military_history_bin',\n",
    "    'punishment_policy', 'regime_type', 'trust_in_leadership_score',\n",
    "    'military_structure', 'defector_capture_rate',\n",
    "    'promotion_fairness_score', 'communication_quality_score',\n",
    "    'opportunity_cost', 'has_enemy_connections', 'will_defect'\n",
    "]\n",
    "\n",
    "# Select only the columns you want to keep\n",
    "df_cleaned = df[columns_to_keep]\n",
    "\n",
    "# Save the cleaned dataset to a new CSV file\n",
    "df_cleaned.to_csv('final_submission.csv', index=False)\n",
    "\n",
    "# Display the first few rows of the cleaned DataFrame\n",
    "df_cleaned.head()"
   ]
  },
  {
   "cell_type": "code",
   "execution_count": null,
   "id": "c7bd24b2-5ab8-4da5-a984-7b0c98a399b7",
   "metadata": {},
   "outputs": [],
   "source": []
  }
 ],
 "metadata": {
  "kernelspec": {
   "display_name": "Python 3 (ipykernel)",
   "language": "python",
   "name": "python3"
  },
  "language_info": {
   "codemirror_mode": {
    "name": "ipython",
    "version": 3
   },
   "file_extension": ".py",
   "mimetype": "text/x-python",
   "name": "python",
   "nbconvert_exporter": "python",
   "pygments_lexer": "ipython3",
   "version": "3.12.4"
  }
 },
 "nbformat": 4,
 "nbformat_minor": 5
}
